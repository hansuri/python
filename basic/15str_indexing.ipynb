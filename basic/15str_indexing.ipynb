{
 "cells": [
  {
   "cell_type": "markdown",
   "id": "9c494cb5",
   "metadata": {},
   "source": [
    "#### 문자열 다루기 \n",
    "1. 문자열을 다루는 다양한 방법 indexing, slicing 방법을 제공한다.\n",
    "2. 다양한 내장함수(기능)도 존재한다 \n"
   ]
  },
  {
   "cell_type": "code",
   "execution_count": 4,
   "id": "fd2a6d73",
   "metadata": {},
   "outputs": [
    {
     "name": "stdout",
     "output_type": "stream",
     "text": [
      "p\n",
      "y\n",
      "t\n",
      "h\n",
      "o\n",
      "n\n"
     ]
    }
   ],
   "source": [
    "s = 'python' #[p,y,t,h,o,n]\n",
    "print(s[0])\n",
    "print(s[1])\n",
    "print(s[2])\n",
    "print(s[3])\n",
    "print(s[4])\n",
    "print(s[5])\n",
    "# print(s[6]) # 초과한 인덱스를 사용하면 오류"
   ]
  },
  {
   "cell_type": "code",
   "execution_count": 7,
   "id": "7b1efa57",
   "metadata": {},
   "outputs": [
    {
     "name": "stdout",
     "output_type": "stream",
     "text": [
      "n\n",
      "o\n",
      "h\n",
      "t\n",
      "y\n",
      "p\n"
     ]
    }
   ],
   "source": [
    "# 음수 -1 은 문자의 마지막 번째를 의미한다 \n",
    "print(s[-1])\n",
    "print(s[-2])\n",
    "print(s[-3])\n",
    "print(s[-4])\n",
    "print(s[-5])\n",
    "print(s[-6])"
   ]
  },
  {
   "cell_type": "markdown",
   "id": "b544baf2",
   "metadata": {},
   "source": [
    "#### 문자열이나, 순차적 구조를 가진 list는 for문에 사용이 가능하다 "
   ]
  },
  {
   "cell_type": "code",
   "execution_count": 13,
   "id": "e2319caa",
   "metadata": {},
   "outputs": [
    {
     "name": "stdout",
     "output_type": "stream",
     "text": [
      "python\n",
      "월화수목금토일"
     ]
    }
   ],
   "source": [
    "for i in s : #python\n",
    "    print(i, end='')\n",
    "    \n",
    "print()\n",
    "\n",
    "for i in '월화수목금토일' :\n",
    "    print(i, end='')\n"
   ]
  },
  {
   "cell_type": "markdown",
   "id": "f1256b8b",
   "metadata": {},
   "source": [
    "#### 문자열 슬라이싱"
   ]
  },
  {
   "cell_type": "code",
   "execution_count": 17,
   "id": "da6d2d63",
   "metadata": {},
   "outputs": [
    {
     "data": {
      "text/plain": [
       "'python'"
      ]
     },
     "execution_count": 17,
     "metadata": {},
     "output_type": "execute_result"
    }
   ],
   "source": [
    "s = 'python'\n",
    "\n",
    "s[0:6] #0~6미만 \n",
    "s[0:5]\n",
    "s[1:5]\n",
    "\n",
    "s[:] # 생략시에는 자동으로 시작~끝 값을 나타냄\n",
    "s[:4] # 0~4미만\n",
    "s[0:] # 0~끝까지\n"
   ]
  },
  {
   "cell_type": "code",
   "execution_count": 20,
   "id": "8b7cea02",
   "metadata": {},
   "outputs": [
    {
     "data": {
      "text/plain": [
       "'ph'"
      ]
     },
     "execution_count": 20,
     "metadata": {},
     "output_type": "execute_result"
    }
   ],
   "source": [
    "# 시작 : 끝미만 : step\n",
    "s[2:5:1]\n",
    "\n",
    "s[0:6:2]\n",
    "s[0:6:3]"
   ]
  },
  {
   "cell_type": "markdown",
   "id": "d2e6889a",
   "metadata": {},
   "source": [
    "#### 실습\n",
    "'''\n",
    "주민번호를 051105-3124567형식으로 입력받습니다.  \n",
    "최종 출력구문은: 2005년 11월 05일 16세 남자  \n",
    "\n",
    "힌트\n",
    "생년월일 부분을 슬라이싱으로 추출해서 변수로 저장  \n",
    "연도같은 경우는 int() 함수를 이용해서 정수로 변환해야 연도 나이를 구할수 있습니다.  \n",
    "7번째자리가 \"3\" or \"4\"라면 2000년대 생  \n",
    "\n",
    "'''"
   ]
  },
  {
   "cell_type": "code",
   "execution_count": 34,
   "id": "bb599ae6",
   "metadata": {},
   "outputs": [
    {
     "name": "stdout",
     "output_type": "stream",
     "text": [
      "주민번호 > 202020-4040404\n",
      "2020\n",
      "2020 년 20 월 20 일 2 세 여자\n"
     ]
    }
   ],
   "source": [
    "num = input('주민번호 > ')\n",
    "\n",
    "year = num[0:2]\n",
    "mon = num[2:4]\n",
    "day = num[4:6]\n",
    "gen = num[7]\n",
    "\n",
    "\n",
    "if gen == '1' or gen =='2' :\n",
    "    year2 = '19'+ year\n",
    "elif gen == '3' or gen == '4' :\n",
    "    year2 = '20'+ year\n",
    "\n",
    "\n",
    "if gen == '1' or gen == '3' :\n",
    "    gen = '남자'\n",
    "elif gen == '2' or gen == '4' :\n",
    "    gen = '여자'\n",
    "       \n",
    "    \n",
    "age = 2022 - int(year2)\n",
    "    \n",
    "\n",
    "print(year2, '년', mon, '월', day, '일', age, '세', gen )"
   ]
  },
  {
   "cell_type": "code",
   "execution_count": null,
   "id": "d432f268",
   "metadata": {},
   "outputs": [],
   "source": []
  }
 ],
 "metadata": {
  "kernelspec": {
   "display_name": "Python 3 (ipykernel)",
   "language": "python",
   "name": "python3"
  },
  "language_info": {
   "codemirror_mode": {
    "name": "ipython",
    "version": 3
   },
   "file_extension": ".py",
   "mimetype": "text/x-python",
   "name": "python",
   "nbconvert_exporter": "python",
   "pygments_lexer": "ipython3",
   "version": "3.9.7"
  }
 },
 "nbformat": 4,
 "nbformat_minor": 5
}
