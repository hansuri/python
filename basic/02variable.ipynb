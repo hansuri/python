{
 "cells": [
  {
   "cell_type": "code",
   "execution_count": 6,
   "id": "3d83b294",
   "metadata": {},
   "outputs": [
    {
     "name": "stdout",
     "output_type": "stream",
     "text": [
      "1\n",
      "6\n",
      "100\n",
      "106\n"
     ]
    }
   ],
   "source": [
    "#변수는 데이터를 저장하기 위한 상자에 이름을 붙여놓은 것\n",
    "\n",
    "abc = 1\n",
    "print(abc)\n",
    "\n",
    "a = 1 + 2 + 3\n",
    "print(a)\n",
    "\n",
    "\n",
    "abc = 100 #값의 변경 \n",
    "print(abc)\n",
    "\n",
    "result = a + abc\n",
    "print(result)\n"
   ]
  },
  {
   "cell_type": "code",
   "execution_count": 1,
   "id": "de2c1220",
   "metadata": {},
   "outputs": [
    {
     "name": "stdout",
     "output_type": "stream",
     "text": [
      "1\n"
     ]
    }
   ],
   "source": [
    "#7name = 1;\n",
    "name7 = '1'\n",
    "\n",
    "\n",
    "#예약어는 사용하면 안된다 \n",
    "#print = 1;\n",
    "#print\n",
    "#print(print)\n",
    "\n",
    "print(1)\n"
   ]
  },
  {
   "cell_type": "code",
   "execution_count": null,
   "id": "7f42173a",
   "metadata": {},
   "outputs": [],
   "source": []
  },
  {
   "cell_type": "code",
   "execution_count": null,
   "id": "53a8bf25",
   "metadata": {},
   "outputs": [],
   "source": []
  },
  {
   "cell_type": "code",
   "execution_count": null,
   "id": "72612011",
   "metadata": {},
   "outputs": [],
   "source": []
  }
 ],
 "metadata": {
  "kernelspec": {
   "display_name": "Python 3 (ipykernel)",
   "language": "python",
   "name": "python3"
  },
  "language_info": {
   "codemirror_mode": {
    "name": "ipython",
    "version": 3
   },
   "file_extension": ".py",
   "mimetype": "text/x-python",
   "name": "python",
   "nbconvert_exporter": "python",
   "pygments_lexer": "ipython3",
   "version": "3.9.7"
  }
 },
 "nbformat": 4,
 "nbformat_minor": 5
}
