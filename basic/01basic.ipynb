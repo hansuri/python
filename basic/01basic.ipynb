{
 "cells": [
  {
   "cell_type": "markdown",
   "id": "e51b51ed",
   "metadata": {},
   "source": [
    "# 파이썬 단축키\n",
    "## 파이썬 단축키\n",
    "### 파이썬 단축키\n",
    "#### 파이썬 단축키 \n",
    "\n",
    "- 마크다운 문법\n",
    "- 마크다운 문법\n",
    "\n",
    "1. a - 이전에 셀 삽입\n",
    "2. b - 다음에 셀 삽입\n",
    "3. dd - 셀 삭제 \n",
    "4. ctrl + enter - 실행\n",
    "5. shift + entr - 실행(다음으로)\n",
    "\n",
    "> 예시 \n",
    "<div style='"
   ]
  },
  {
   "cell_type": "code",
   "execution_count": 11,
   "id": "7b46e42c",
   "metadata": {},
   "outputs": [
    {
     "ename": "IndentationError",
     "evalue": "unexpected indent (1391949366.py, line 17)",
     "output_type": "error",
     "traceback": [
      "\u001b[0;36m  File \u001b[0;32m\"/var/folders/h3/lg3y6zcs3pd2dpz_3df0qxjw0000gn/T/ipykernel_62234/1391949366.py\"\u001b[0;36m, line \u001b[0;32m17\u001b[0m\n\u001b[0;31m    print('문자입니다')\u001b[0m\n\u001b[0m    ^\u001b[0m\n\u001b[0;31mIndentationError\u001b[0m\u001b[0;31m:\u001b[0m unexpected indent\n"
     ]
    }
   ],
   "source": [
    "#한 줄 주석\n",
    "#ctrl+ /\n",
    "'''\n",
    "여러 줄 주석으로 사용 \n",
    "안녕하세요 - 홑따옴표로 표기 \n",
    "'''\n",
    "\n",
    "\n",
    "#print('안녕하세요')\n",
    "1\n",
    "10\n",
    "100\n",
    "\n",
    "print(1)\n",
    "print(1 + 2)\n",
    "print(\"문자입니다\")\n",
    "#    print('문자입니다') - 들여쓰기는 범위를 나타낸다 \n",
    "#tab버튼으로 자동완성\n",
    "\n",
    "\n",
    "\n"
   ]
  },
  {
   "cell_type": "code",
   "execution_count": null,
   "id": "35b6cad3",
   "metadata": {},
   "outputs": [],
   "source": []
  },
  {
   "cell_type": "code",
   "execution_count": null,
   "id": "5315cc0b",
   "metadata": {},
   "outputs": [],
   "source": []
  },
  {
   "cell_type": "code",
   "execution_count": null,
   "id": "7b1f32f9",
   "metadata": {},
   "outputs": [],
   "source": []
  }
 ],
 "metadata": {
  "kernelspec": {
   "display_name": "Python 3 (ipykernel)",
   "language": "python",
   "name": "python3"
  },
  "language_info": {
   "codemirror_mode": {
    "name": "ipython",
    "version": 3
   },
   "file_extension": ".py",
   "mimetype": "text/x-python",
   "name": "python",
   "nbconvert_exporter": "python",
   "pygments_lexer": "ipython3",
   "version": "3.9.7"
  }
 },
 "nbformat": 4,
 "nbformat_minor": 5
}
