{
 "cells": [
  {
   "cell_type": "markdown",
   "id": "91730e80",
   "metadata": {},
   "source": [
    "#### 튜플\n",
    "1. 튜플은 집합이라는 의미에서 리스트와 유사하다\n",
    "2. 하지만 값을 바꿀 수 없다. (불변 리스트)"
   ]
  },
  {
   "cell_type": "code",
   "execution_count": 3,
   "id": "332f04bf",
   "metadata": {},
   "outputs": [
    {
     "name": "stdout",
     "output_type": "stream",
     "text": [
      "2 1\n"
     ]
    }
   ],
   "source": [
    "point = (1,2,3,4,5)\n",
    "type(point)\n",
    "\n",
    "point = 1,2,3,4,5 #소괄호 생략가능 \n",
    "type(point)\n",
    "\n",
    "x = 1\n",
    "y = 2\n",
    "x, y = y, x #변수 = 튜플 (튜플의 언패킹)\n",
    "print(x, y)\n"
   ]
  },
  {
   "cell_type": "markdown",
   "id": "e859d60b",
   "metadata": {},
   "source": [
    "#### 튜플도 인덱싱과 슬라이싱이 된다 "
   ]
  },
  {
   "cell_type": "code",
   "execution_count": 8,
   "id": "b8c425c0",
   "metadata": {},
   "outputs": [
    {
     "name": "stdout",
     "output_type": "stream",
     "text": [
      "(1, 2, 3, 4, 5)\n"
     ]
    },
    {
     "data": {
      "text/plain": [
       "(1, 3, 5)"
      ]
     },
     "execution_count": 8,
     "metadata": {},
     "output_type": "execute_result"
    }
   ],
   "source": [
    "print(point)\n",
    "\n",
    "point[0]\n",
    "point[1]\n",
    "\n",
    "point[:] #슬라이싱\n",
    "point[1:]\n",
    "point[:3]\n",
    "point[::2]"
   ]
  },
  {
   "cell_type": "code",
   "execution_count": 9,
   "id": "ddef96cb",
   "metadata": {},
   "outputs": [],
   "source": [
    "# 튜플에서 불가능한 문법 \n",
    "# 값을 변경하는 행위는 모두 안된다 \n",
    "\n",
    "#point[0] = 100\n",
    "#point.append(100)\n",
    "#del point[0]"
   ]
  },
  {
   "cell_type": "markdown",
   "id": "3a9a5303",
   "metadata": {},
   "source": [
    "#### max, min, len, index, "
   ]
  },
  {
   "cell_type": "code",
   "execution_count": 10,
   "id": "e2444626",
   "metadata": {},
   "outputs": [
    {
     "data": {
      "text/plain": [
       "1"
      ]
     },
     "execution_count": 10,
     "metadata": {},
     "output_type": "execute_result"
    }
   ],
   "source": [
    "point.count(5) # 5의 갯수"
   ]
  },
  {
   "cell_type": "code",
   "execution_count": 11,
   "id": "cea7ce52",
   "metadata": {},
   "outputs": [
    {
     "data": {
      "text/plain": [
       "5"
      ]
     },
     "execution_count": 11,
     "metadata": {},
     "output_type": "execute_result"
    }
   ],
   "source": [
    "len(point) # 튜플의 길이"
   ]
  },
  {
   "cell_type": "code",
   "execution_count": 12,
   "id": "b74621cb",
   "metadata": {},
   "outputs": [
    {
     "data": {
      "text/plain": [
       "5"
      ]
     },
     "execution_count": 12,
     "metadata": {},
     "output_type": "execute_result"
    }
   ],
   "source": [
    "max(point) # 큰 값"
   ]
  },
  {
   "cell_type": "code",
   "execution_count": 13,
   "id": "9581ca23",
   "metadata": {},
   "outputs": [
    {
     "data": {
      "text/plain": [
       "1"
      ]
     },
     "execution_count": 13,
     "metadata": {},
     "output_type": "execute_result"
    }
   ],
   "source": [
    "min(point) # 작은 값"
   ]
  },
  {
   "cell_type": "markdown",
   "id": "71410d5a",
   "metadata": {},
   "source": [
    "#### 튜플과 리스트는 상호 형변환이 가능하다 \n",
    "1. list()\n",
    "2. tuple()"
   ]
  },
  {
   "cell_type": "code",
   "execution_count": 18,
   "id": "e3a31dc8",
   "metadata": {},
   "outputs": [
    {
     "data": {
      "text/plain": [
       "[1, 2, 3, 4, 5, 6, 7, 8, 9, 10]"
      ]
     },
     "execution_count": 18,
     "metadata": {},
     "output_type": "execute_result"
    }
   ],
   "source": [
    "arr = [1,2,3,4,5,6,7,8,9,10]\n",
    "\n",
    "arr = tuple(arr) # 리스트 -> 튜플\n",
    "\n",
    "arr = list(arr) # 튜플 -> 리스트\n",
    "arr"
   ]
  },
  {
   "cell_type": "code",
   "execution_count": null,
   "id": "f676d0a2",
   "metadata": {},
   "outputs": [],
   "source": []
  },
  {
   "cell_type": "code",
   "execution_count": null,
   "id": "f77eba91",
   "metadata": {},
   "outputs": [],
   "source": []
  },
  {
   "cell_type": "code",
   "execution_count": null,
   "id": "edbe4c0d",
   "metadata": {},
   "outputs": [],
   "source": []
  }
 ],
 "metadata": {
  "kernelspec": {
   "display_name": "Python 3 (ipykernel)",
   "language": "python",
   "name": "python3"
  },
  "language_info": {
   "codemirror_mode": {
    "name": "ipython",
    "version": 3
   },
   "file_extension": ".py",
   "mimetype": "text/x-python",
   "name": "python",
   "nbconvert_exporter": "python",
   "pygments_lexer": "ipython3",
   "version": "3.9.7"
  }
 },
 "nbformat": 4,
 "nbformat_minor": 5
}
