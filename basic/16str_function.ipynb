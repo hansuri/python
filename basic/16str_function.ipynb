{
 "cells": [
  {
   "cell_type": "markdown",
   "id": "bc94db84",
   "metadata": {},
   "source": [
    "#### 파이썬의 문자열 다루기 함수들\n",
    "1. len\n",
    "2. replace\n",
    "3. split\n",
    "4. find\n",
    "5. count\n",
    "\n",
    "> shift + tab - 함수의 기능정보 확인가능 "
   ]
  },
  {
   "cell_type": "code",
   "execution_count": 1,
   "id": "bb01d6ad",
   "metadata": {},
   "outputs": [
    {
     "name": "stdout",
     "output_type": "stream",
     "text": [
      "문자열의 길이 :  6\n"
     ]
    }
   ],
   "source": [
    "s = 'python'\n",
    "\n",
    "print('문자열의 길이 : ', len(s) )"
   ]
  },
  {
   "cell_type": "code",
   "execution_count": 2,
   "id": "59c4710e",
   "metadata": {},
   "outputs": [
    {
     "data": {
      "text/plain": [
       "4"
      ]
     },
     "execution_count": 2,
     "metadata": {},
     "output_type": "execute_result"
    }
   ],
   "source": [
    "len( range(1, 1001) ) #길이 1000\n",
    "len( [1,2,3,4] ) # 길이 4"
   ]
  },
  {
   "cell_type": "code",
   "execution_count": 4,
   "id": "5cdf0fc3",
   "metadata": {},
   "outputs": [
    {
     "data": {
      "text/plain": [
       "'파이썬 programming'"
      ]
     },
     "execution_count": 4,
     "metadata": {},
     "output_type": "execute_result"
    }
   ],
   "source": [
    "s = 'python programming'\n",
    "\n",
    "s = s.replace('python', '파이썬')\n",
    "s\n"
   ]
  },
  {
   "cell_type": "code",
   "execution_count": 5,
   "id": "93479f71",
   "metadata": {},
   "outputs": [
    {
     "data": {
      "text/plain": [
       "['010', '1234', '5678']"
      ]
     },
     "execution_count": 5,
     "metadata": {},
     "output_type": "execute_result"
    }
   ],
   "source": [
    "s = '010-1234-5678'\n",
    "list_=s.split('-')\n",
    "list_"
   ]
  },
  {
   "cell_type": "code",
   "execution_count": 7,
   "id": "6505f67e",
   "metadata": {},
   "outputs": [
    {
     "name": "stdout",
     "output_type": "stream",
     "text": [
      "생각이 처음 발견된 위치 :  1\n",
      "생각이 발견된 횟수 :  7\n"
     ]
    }
   ],
   "source": [
    "s = '''\n",
    "생각이라는 생각은 생각할 수록 자꾸 생각이 나기 때문에 \n",
    "생각이라는 것은 아예 생각하지 않는 것이 좋다고 생각합니다.\n",
    "'''\n",
    "print('생각이 처음 발견된 위치 : ', s.find('생각'))\n",
    "print('생각이 발견된 횟수 : ', s.count('생각'))"
   ]
  },
  {
   "cell_type": "code",
   "execution_count": null,
   "id": "71a02874",
   "metadata": {},
   "outputs": [],
   "source": []
  }
 ],
 "metadata": {
  "kernelspec": {
   "display_name": "Python 3 (ipykernel)",
   "language": "python",
   "name": "python3"
  },
  "language_info": {
   "codemirror_mode": {
    "name": "ipython",
    "version": 3
   },
   "file_extension": ".py",
   "mimetype": "text/x-python",
   "name": "python",
   "nbconvert_exporter": "python",
   "pygments_lexer": "ipython3",
   "version": "3.9.7"
  }
 },
 "nbformat": 4,
 "nbformat_minor": 5
}
