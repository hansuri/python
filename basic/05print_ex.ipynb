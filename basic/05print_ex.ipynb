{
 "cells": [
  {
   "cell_type": "markdown",
   "id": "06859a2d",
   "metadata": {},
   "source": [
    "#### 표준출력 함수 print()"
   ]
  },
  {
   "cell_type": "code",
   "execution_count": 3,
   "id": "7841c27b",
   "metadata": {},
   "outputs": [
    {
     "name": "stdout",
     "output_type": "stream",
     "text": [
      "1234\n",
      "홍길동\n",
      "홍길동 님의 나이는 1234 입니다\n"
     ]
    }
   ],
   "source": [
    "value = 1234\n",
    "name = '홍길동'\n",
    "\n",
    "print(value)\n",
    "print(name)\n",
    "#print(value + name) #에러 /변수끼리의 더하기는 안된다\n",
    "\n",
    "#출력할 데이터가 여러 개 라면 ,로 연결한다 \n",
    "print(name, '님의 나이는', value, '입니다')\n",
    "\n"
   ]
  },
  {
   "cell_type": "code",
   "execution_count": 10,
   "id": "0ee65d34",
   "metadata": {},
   "outputs": [
    {
     "name": "stdout",
     "output_type": "stream",
     "text": [
      "강아지 고양이 돼지\n",
      "강아지 고양이 돼지\n",
      "강아지,고양이,돼지\n",
      "강아지 => 고양이 => 돼지\n",
      "강아지고양이돼지\n"
     ]
    }
   ],
   "source": [
    "dog = '강아지'\n",
    "cat = '고양이'\n",
    "pig = '돼지'\n",
    "\n",
    "\n",
    "print(dog, cat, pig)\n",
    "print(dog, cat, pig, sep=' ') #seperate속성은 default값으로 공백을 가지고 있다 \n",
    "print(dog, cat, pig, sep=',')\n",
    "print(dog, cat, pig, sep=' => ')\n",
    "print(dog, cat, pig, sep='')"
   ]
  },
  {
   "cell_type": "code",
   "execution_count": 16,
   "id": "1a76bcf9",
   "metadata": {},
   "outputs": [
    {
     "name": "stdout",
     "output_type": "stream",
     "text": [
      "강아지 고양이 돼지\n",
      "강아지 고양이 돼지\n",
      "결과\n",
      "오늘 오전에 안나온 사람 오후에 나올꺼죠?^^?다음 출력구문은?\n"
     ]
    }
   ],
   "source": [
    "# end속성은 출력 이후 맨 마지막에 포함할 문자를 지정하는 용도이다  \n",
    "\n",
    "print(dog, cat, pig)\n",
    "print(dog, cat, pig, end='\\n') #default값이 \\n\n",
    "print('결과')\n",
    "\n",
    "print('오늘', '오전에', '안나온 사람', '오후에 나올꺼죠?', end='^^?' )\n",
    "print('다음 출력구문은?')"
   ]
  },
  {
   "cell_type": "code",
   "execution_count": 19,
   "id": "7286a9d8",
   "metadata": {},
   "outputs": [
    {
     "name": "stdout",
     "output_type": "stream",
     "text": [
      "안녕?....집에 가고싶다. 저 먼저 퇴근할게요~"
     ]
    }
   ],
   "source": [
    "print('안녕?', '집에 가고싶다.', end=' 저 먼저 퇴근할게요~', sep='....')"
   ]
  },
  {
   "cell_type": "code",
   "execution_count": null,
   "id": "b844e119",
   "metadata": {},
   "outputs": [],
   "source": [
    "#end, sep 속성은 반드시 print문장 마지막에 작성해야 한다 \n",
    "#print(end=' 저 먼저 퇴근할게요~', sep='....', '안녕?', '집에 가고싶다.')"
   ]
  },
  {
   "cell_type": "code",
   "execution_count": null,
   "id": "fa81cf3a",
   "metadata": {},
   "outputs": [],
   "source": []
  }
 ],
 "metadata": {
  "kernelspec": {
   "display_name": "Python 3 (ipykernel)",
   "language": "python",
   "name": "python3"
  },
  "language_info": {
   "codemirror_mode": {
    "name": "ipython",
    "version": 3
   },
   "file_extension": ".py",
   "mimetype": "text/x-python",
   "name": "python",
   "nbconvert_exporter": "python",
   "pygments_lexer": "ipython3",
   "version": "3.9.7"
  }
 },
 "nbformat": 4,
 "nbformat_minor": 5
}
