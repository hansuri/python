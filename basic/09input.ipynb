{
 "cells": [
  {
   "cell_type": "markdown",
   "id": "9f48f5db",
   "metadata": {},
   "source": [
    "#### 표준 입력함수 input()\n",
    "- input()의 결과는 항상 문자열입니다\n"
   ]
  },
  {
   "cell_type": "code",
   "execution_count": 3,
   "id": "5fe350b3",
   "metadata": {},
   "outputs": [
    {
     "name": "stdout",
     "output_type": "stream",
     "text": [
      "너 별명이 뭐야?콩비지\n",
      "입력된 별명은 : 콩비지\n",
      "<class 'str'>\n"
     ]
    }
   ],
   "source": [
    "nick = input('너 별명이 뭐야?')\n",
    "\n",
    "print('입력된 별명은 : ' + nick)\n",
    "print(type(nick) )"
   ]
  },
  {
   "cell_type": "code",
   "execution_count": 5,
   "id": "48452b1a",
   "metadata": {},
   "outputs": [
    {
     "name": "stdout",
     "output_type": "stream",
     "text": [
      "두 수를 입력하세요 > \n",
      "첫 번째 수 : 12\n",
      "두 번째 수 : 23\n",
      "35\n"
     ]
    }
   ],
   "source": [
    "print('두 수를 입력하세요 > ')\n",
    "n1 = int(input('첫 번째 수 : ') )\n",
    "n2 = int(input('두 번째 수 : ') )\n",
    "\n",
    "print(n1 + n2)"
   ]
  },
  {
   "cell_type": "code",
   "execution_count": null,
   "id": "5eb6432a",
   "metadata": {},
   "outputs": [],
   "source": []
  },
  {
   "cell_type": "code",
   "execution_count": null,
   "id": "6411e768",
   "metadata": {},
   "outputs": [],
   "source": []
  }
 ],
 "metadata": {
  "kernelspec": {
   "display_name": "Python 3 (ipykernel)",
   "language": "python",
   "name": "python3"
  },
  "language_info": {
   "codemirror_mode": {
    "name": "ipython",
    "version": 3
   },
   "file_extension": ".py",
   "mimetype": "text/x-python",
   "name": "python",
   "nbconvert_exporter": "python",
   "pygments_lexer": "ipython3",
   "version": "3.9.7"
  }
 },
 "nbformat": 4,
 "nbformat_minor": 5
}
