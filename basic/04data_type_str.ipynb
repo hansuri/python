{
 "cells": [
  {
   "cell_type": "markdown",
   "id": "9963634c",
   "metadata": {},
   "source": [
    "### 문자열 타입 string\n",
    "- 문자열을 표기할 때는 \"\",' '로 표기한다 "
   ]
  },
  {
   "cell_type": "code",
   "execution_count": 9,
   "id": "f3f0d9f0",
   "metadata": {},
   "outputs": [
    {
     "data": {
      "text/plain": [
       "\"Let's go!!!!\""
      ]
     },
     "execution_count": 9,
     "metadata": {},
     "output_type": "execute_result"
    }
   ],
   "source": [
    "s1 = \"안녕\"\n",
    "s2 = '안녕'\n",
    "\n",
    "s2\n",
    "\n",
    "s3 = \"Let's go!!!!\";\n",
    "s3\n",
    "#문자열 안에서 따옴표를 사용하고 싶다면 백슬래시 사용 \n",
    "s4 = 'Let\\'s go!!!!';\n",
    "s4"
   ]
  },
  {
   "cell_type": "code",
   "execution_count": 14,
   "id": "06e2a6e6",
   "metadata": {},
   "outputs": [
    {
     "name": "stdout",
     "output_type": "stream",
     "text": [
      "안녕~\n",
      "내일 봐~\n"
     ]
    }
   ],
   "source": [
    "s4='안녕~\\n내일 봐~'\n",
    "print(s4)\n",
    "\n",
    "#탈출문자 경로를 표현할 때 \\\\를 붙여서 표현한다 \n",
    "path = \"c:\\\\temp\\\\user\";"
   ]
  },
  {
   "cell_type": "code",
   "execution_count": null,
   "id": "a97b45ee",
   "metadata": {},
   "outputs": [],
   "source": []
  },
  {
   "cell_type": "code",
   "execution_count": 9,
   "id": "f19354ed",
   "metadata": {},
   "outputs": [
    {
     "name": "stdout",
     "output_type": "stream",
     "text": [
      "따옴표 하나로 문단 처리하기 \n",
      "따옴표 하나로 문단 처리하기 \n",
      "따옴표 하나로 문단 처리하기 \n",
      "따옴표 하나로 문단 처리하기 \n",
      "따옴표 하나로 문단 처리하기\n"
     ]
    }
   ],
   "source": [
    "#홑따옴표를 이용해서 여러문장을 처리할 때는 라인 마지막에 \\(백슬래시)를 붙인다\n",
    "\n",
    "s6= '따옴표 하나로 문단 처리하기 \\\n",
    "\\n따옴표 하나로 문단 처리하기 \\\n",
    "\\n따옴표 하나로 문단 처리하기 \\\n",
    "\\n따옴표 하나로 문단 처리하기 \\\n",
    "\\n따옴표 하나로 문단 처리하기'\n",
    "\n",
    "print(s6)\n",
    "\n",
    "\n"
   ]
  },
  {
   "cell_type": "code",
   "execution_count": null,
   "id": "0ffe4cfd",
   "metadata": {},
   "outputs": [],
   "source": []
  },
  {
   "cell_type": "code",
   "execution_count": null,
   "id": "309463be",
   "metadata": {},
   "outputs": [],
   "source": []
  }
 ],
 "metadata": {
  "kernelspec": {
   "display_name": "Python 3 (ipykernel)",
   "language": "python",
   "name": "python3"
  },
  "language_info": {
   "codemirror_mode": {
    "name": "ipython",
    "version": 3
   },
   "file_extension": ".py",
   "mimetype": "text/x-python",
   "name": "python",
   "nbconvert_exporter": "python",
   "pygments_lexer": "ipython3",
   "version": "3.9.7"
  }
 },
 "nbformat": 4,
 "nbformat_minor": 5
}
