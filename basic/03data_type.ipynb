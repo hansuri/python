{
 "cells": [
  {
   "cell_type": "code",
   "execution_count": 3,
   "id": "e7dcdcfd",
   "metadata": {},
   "outputs": [
    {
     "data": {
      "text/plain": [
       "'0xac00'"
      ]
     },
     "execution_count": 3,
     "metadata": {},
     "output_type": "execute_result"
    }
   ],
   "source": [
    "#정수형 타입\n",
    "\n",
    "num = 123\n",
    "type(num)\n",
    "\n",
    "num = -123\n",
    "type(num)\n",
    "\n",
    "#2진수, 8진수, 16진수 형태로 표현\n",
    "#0b, 0o, 0x를 붙여서 표현가능\n",
    "\n",
    "a= 0b1011\n",
    "b=0o77\n",
    "\n",
    "c= 0xAC00\n",
    "c\n",
    "\n",
    "bin(a) #2진수 형태로 출력\n",
    "oct(b) #8진수 형태로 출력\n",
    "hex(c) #12진수 형태로 출력\n"
   ]
  },
  {
   "cell_type": "markdown",
   "id": "816cf8b9",
   "metadata": {},
   "source": [
    "### 실수형"
   ]
  },
  {
   "cell_type": "code",
   "execution_count": 12,
   "id": "688274e2",
   "metadata": {},
   "outputs": [
    {
     "data": {
      "text/plain": [
       "0.003141692"
      ]
     },
     "execution_count": 12,
     "metadata": {},
     "output_type": "execute_result"
    }
   ],
   "source": [
    "# float - 10진수 형태로 나타거나, 지수표현법으로 표현가능 \n",
    "\n",
    "a= 3.14\n",
    "type(a)\n",
    "\n",
    "b= 3.141592e5\n",
    "b\n",
    "\n",
    "c= 3.141692e-3\n",
    "c\n"
   ]
  },
  {
   "cell_type": "code",
   "execution_count": null,
   "id": "7d44d24d",
   "metadata": {},
   "outputs": [],
   "source": [
    "####논리형 boolean"
   ]
  },
  {
   "cell_type": "code",
   "execution_count": 17,
   "id": "0815b2c5",
   "metadata": {},
   "outputs": [
    {
     "data": {
      "text/plain": [
       "bool"
      ]
     },
     "execution_count": 17,
     "metadata": {},
     "output_type": "execute_result"
    }
   ],
   "source": [
    "#true키워드는 True처럼 맨 앞글자를 대문자로 작성해야 한다 \n",
    "\n",
    "b1 = True \n",
    "b1\n",
    "\n",
    "b2 = False\n",
    "b2\n",
    "\n",
    "type(b1)\n",
    "type(b2)\n"
   ]
  },
  {
   "cell_type": "code",
   "execution_count": 18,
   "id": "848990d7",
   "metadata": {},
   "outputs": [
    {
     "name": "stdout",
     "output_type": "stream",
     "text": [
      "True\n",
      "False\n",
      "True\n",
      "5\n",
      "5\n"
     ]
    }
   ],
   "source": [
    "# >, <, <=, >=, ==, !=\n",
    "a=5\n",
    "\n",
    "print(a<10)\n",
    "print(a>5)\n",
    "print(a==5)\n",
    "print(a)\n",
    "print(a)"
   ]
  },
  {
   "cell_type": "code",
   "execution_count": 22,
   "id": "42a9cae3",
   "metadata": {},
   "outputs": [
    {
     "name": "stdout",
     "output_type": "stream",
     "text": [
      "False\n",
      "False\n",
      "True\n",
      "False\n"
     ]
    }
   ],
   "source": [
    "#사전등재 순서대로 크기가 지정된다 \n",
    "\n",
    "print('apple'>'grape')\n",
    "print('감자'>'고구마')\n",
    "print('banana'<'바나나')\n",
    "print('Banana'>'banana')"
   ]
  }
 ],
 "metadata": {
  "kernelspec": {
   "display_name": "Python 3 (ipykernel)",
   "language": "python",
   "name": "python3"
  },
  "language_info": {
   "codemirror_mode": {
    "name": "ipython",
    "version": 3
   },
   "file_extension": ".py",
   "mimetype": "text/x-python",
   "name": "python",
   "nbconvert_exporter": "python",
   "pygments_lexer": "ipython3",
   "version": "3.9.7"
  }
 },
 "nbformat": 4,
 "nbformat_minor": 5
}
