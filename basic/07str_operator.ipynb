{
 "cells": [
  {
   "cell_type": "markdown",
   "id": "9e5ee108",
   "metadata": {},
   "source": [
    "#### 문자열의 덧셈, 곱셈"
   ]
  },
  {
   "cell_type": "code",
   "execution_count": 4,
   "id": "2a57f26d",
   "metadata": {},
   "outputs": [
    {
     "name": "stdout",
     "output_type": "stream",
     "text": [
      "오늘 저녁은치킨입니다!\n",
      "존맛탱구리~~\n",
      "오늘 저녁은오늘 저녁은오늘 저녁은오늘 저녁은오늘 저녁은오늘 저녁은오늘 저녁은오늘 저녁은오늘 저녁은오늘 저녁은\n",
      "--------------------------------------------------\n"
     ]
    }
   ],
   "source": [
    "s1 = '오늘 저녁은'\n",
    "s2 = '치킨입니다!'\n",
    "\n",
    "print(s1 + s2 + '\\n존맛탱구리~~')\n",
    "\n",
    "print(s1 * 10) #문자열 곱셈\n",
    "\n",
    "print('-' * 50)"
   ]
  },
  {
   "cell_type": "code",
   "execution_count": null,
   "id": "96473f42",
   "metadata": {},
   "outputs": [],
   "source": [
    "# 숫자와 문자를 더하는 것은 허용되지 않는다\n",
    "# print(s1 + 3)\n",
    "# 실수와 문자를 곱하는 것도 허용되지 않는다 \n",
    "# print(s1 * 3.14)"
   ]
  },
  {
   "cell_type": "code",
   "execution_count": null,
   "id": "9cbd8f1e",
   "metadata": {},
   "outputs": [],
   "source": []
  },
  {
   "cell_type": "code",
   "execution_count": null,
   "id": "2dc78383",
   "metadata": {},
   "outputs": [],
   "source": []
  },
  {
   "cell_type": "code",
   "execution_count": null,
   "id": "44633e34",
   "metadata": {},
   "outputs": [],
   "source": []
  }
 ],
 "metadata": {
  "kernelspec": {
   "display_name": "Python 3 (ipykernel)",
   "language": "python",
   "name": "python3"
  },
  "language_info": {
   "codemirror_mode": {
    "name": "ipython",
    "version": 3
   },
   "file_extension": ".py",
   "mimetype": "text/x-python",
   "name": "python",
   "nbconvert_exporter": "python",
   "pygments_lexer": "ipython3",
   "version": "3.9.7"
  }
 },
 "nbformat": 4,
 "nbformat_minor": 5
}
