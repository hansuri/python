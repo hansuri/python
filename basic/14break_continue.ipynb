{
 "cells": [
  {
   "cell_type": "code",
   "execution_count": null,
   "id": "9b6f3366",
   "metadata": {},
   "outputs": [],
   "source": []
  },
  {
   "cell_type": "code",
   "execution_count": null,
   "id": "f1d75191",
   "metadata": {},
   "outputs": [],
   "source": []
  },
  {
   "cell_type": "code",
   "execution_count": 1,
   "id": "674ffb9a",
   "metadata": {},
   "outputs": [
    {
     "name": "stdout",
     "output_type": "stream",
     "text": [
      "먹고싶은 음식 > 버블티\n",
      "버블티\n",
      "먹고싶은 음식 > 그만\n"
     ]
    }
   ],
   "source": [
    "# 무한루프\n",
    "while True :\n",
    "    name = input('먹고싶은 음식 > ')\n",
    "    \n",
    "    if name == '그만' : # 탈출\n",
    "        break\n",
    "        \n",
    "    print(name)"
   ]
  },
  {
   "cell_type": "markdown",
   "id": "2d4e53bc",
   "metadata": {},
   "source": [
    "#### continue"
   ]
  },
  {
   "cell_type": "code",
   "execution_count": 2,
   "id": "d3e5ceef",
   "metadata": {},
   "outputs": [
    {
     "name": "stdout",
     "output_type": "stream",
     "text": [
      "1\n",
      "3\n",
      "5\n",
      "7\n",
      "9\n"
     ]
    }
   ],
   "source": [
    "for i in range(1, 11) :\n",
    "    if i % 2 == 0 :\n",
    "        continue\n",
    "        \n",
    "    print(i)"
   ]
  },
  {
   "cell_type": "markdown",
   "id": "42c79399",
   "metadata": {},
   "source": [
    "#### 실습\n",
    "\n",
    "'''\n",
    "1. 사용자에게 38 x 12 = ? 문제를 내고 답을 입력받습니다.\n",
    "\n",
    "2. 정답을 맞춘 경우 \"정답입니다\",  \n",
    "    \"x번에 만에 맞추셨네요\"\n",
    "    를 출력하고 반복문을 종료합니다\n",
    "\n",
    "3. 오답일 경우 \"틀렸습니다!\" 를 출력하고,  \n",
    "    다시 정답을 입력받을 수 있도록 반복문을 구성하세요\n",
    "\n",
    "4. hint:횟수를 누적하는 count변수를 사용!\n",
    "'''"
   ]
  },
  {
   "cell_type": "code",
   "execution_count": 7,
   "id": "88accf07",
   "metadata": {},
   "outputs": [
    {
     "name": "stdout",
     "output_type": "stream",
     "text": [
      "38 x 12 = ? 정답 입력 > 2\n",
      "틀렸습니다!\n",
      "38 x 12 = ? 정답 입력 > 5\n",
      "틀렸습니다!\n",
      "38 x 12 = ? 정답 입력 > 456\n",
      "정답입니다!\n",
      "2 번 반에 맞추셨네요\n"
     ]
    }
   ],
   "source": [
    "\n",
    "count = 0\n",
    "\n",
    "while True : \n",
    "    answer = int(input('38 x 12 = ? 정답 입력 > '))\n",
    "    \n",
    "    if answer == 456 :\n",
    "        print('정답입니다!')\n",
    "        print(count,'번 반에 맞추셨네요')\n",
    "        break\n",
    "    \n",
    "    else : \n",
    "        print('틀렸습니다!')\n",
    "        count += 1\n",
    "    \n"
   ]
  },
  {
   "cell_type": "code",
   "execution_count": null,
   "id": "a29905ad",
   "metadata": {},
   "outputs": [],
   "source": []
  }
 ],
 "metadata": {
  "kernelspec": {
   "display_name": "Python 3 (ipykernel)",
   "language": "python",
   "name": "python3"
  },
  "language_info": {
   "codemirror_mode": {
    "name": "ipython",
    "version": 3
   },
   "file_extension": ".py",
   "mimetype": "text/x-python",
   "name": "python",
   "nbconvert_exporter": "python",
   "pygments_lexer": "ipython3",
   "version": "3.9.7"
  }
 },
 "nbformat": 4,
 "nbformat_minor": 5
}
