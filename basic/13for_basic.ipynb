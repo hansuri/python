{
 "cells": [
  {
   "cell_type": "markdown",
   "id": "7d9fc245",
   "metadata": {},
   "source": [
    "####for 변수 in 시퀀스 자료형 :\n",
    "    들여쓰기\n",
    "    \n",
    "- 시퀀스자료형 : 집합형태로 만들어진 자료형(리스트가 대표적임)\n"
   ]
  },
  {
   "cell_type": "code",
   "execution_count": 1,
   "id": "ab20fae1",
   "metadata": {},
   "outputs": [
    {
     "data": {
      "text/plain": [
       "[1, 2, 3]"
      ]
     },
     "execution_count": 1,
     "metadata": {},
     "output_type": "execute_result"
    }
   ],
   "source": [
    "[1, 2, 3]"
   ]
  },
  {
   "cell_type": "code",
   "execution_count": 2,
   "id": "50ecdf79",
   "metadata": {},
   "outputs": [
    {
     "name": "stdout",
     "output_type": "stream",
     "text": [
      "1\n",
      "2\n",
      "3\n",
      "4\n",
      "5\n",
      "6\n",
      "7\n",
      "8\n",
      "9\n",
      "10\n"
     ]
    }
   ],
   "source": [
    "#[1, 2, 3, 4, 5, 6, 7]\n",
    "\n",
    "for a in [1, 2, 3, 4, 5, 6, 7, 8, 9, 10] :\n",
    "    print(a)"
   ]
  },
  {
   "cell_type": "code",
   "execution_count": 3,
   "id": "c22c85d9",
   "metadata": {},
   "outputs": [
    {
     "name": "stdout",
     "output_type": "stream",
     "text": [
      "1 2 3 4 5 6 7 8 9 10 11 12 13 14 15 16 17 18 19 20 21 22 23 24 25 26 27 28 29 30 31 32 33 34 35 36 37 38 39 40 41 42 43 44 45 46 47 48 49 50 51 52 53 54 55 56 57 58 59 60 61 62 63 64 65 66 67 68 69 70 71 72 73 74 75 76 77 78 79 80 81 82 83 84 85 86 87 88 89 90 91 92 93 94 95 96 97 98 99 100 "
     ]
    }
   ],
   "source": [
    "for a in range(1, 101, 1) :\n",
    "    print(a, end=' ')"
   ]
  },
  {
   "cell_type": "markdown",
   "id": "57242a5d",
   "metadata": {},
   "source": [
    "#### 내장함수 range()\n",
    "- range(start, end, step)\n",
    "- end 미만 "
   ]
  },
  {
   "cell_type": "code",
   "execution_count": 9,
   "id": "cd809b05",
   "metadata": {},
   "outputs": [
    {
     "name": "stdout",
     "output_type": "stream",
     "text": [
      "7의 배수의 합 :  735\n"
     ]
    }
   ],
   "source": [
    "list1 = list( range(0, 10, 3))\n",
    "list1\n",
    "\n",
    "list2 = list( range(0, 10, 2))\n",
    "list2\n",
    "\n",
    "# 매개값이 두 개인 경우(start, end)\n",
    "list3 = list( range(0, 10) )\n",
    "list3\n",
    "\n",
    "# 매개값이 한 개인 경우(end)\n",
    "# start=0, step=1로 처리\n",
    "list4 = list( range(10) )\n",
    "list4\n",
    "\n",
    "# 7~100까지 정수 중에서 7의 배수의 합\n",
    "list5 = list( range(7, 100, 1) )\n",
    "\n",
    "sum = 0\n",
    "for a in list5 :\n",
    "    if a % 7 == 0 :\n",
    "        sum += a\n",
    "\n",
    "print('7의 배수의 합 : ', sum)\n"
   ]
  },
  {
   "cell_type": "markdown",
   "id": "3046c51f",
   "metadata": {},
   "source": [
    "#### 반복문의 중첩"
   ]
  },
  {
   "cell_type": "code",
   "execution_count": 36,
   "id": "134b4f8b",
   "metadata": {},
   "outputs": [
    {
     "name": "stdout",
     "output_type": "stream",
     "text": [
      "구구단2단\n",
      "2 X 1 = 2\n",
      "2 X 2 = 4\n",
      "2 X 3 = 6\n",
      "2 X 4 = 8\n",
      "2 X 5 = 10\n",
      "2 X 6 = 12\n",
      "2 X 7 = 14\n",
      "2 X 8 = 16\n",
      "2 X 9 = 18\n",
      "--------------------------------------------------\n",
      "구구단3단\n",
      "3 X 1 = 3\n",
      "3 X 2 = 6\n",
      "3 X 3 = 9\n",
      "3 X 4 = 12\n",
      "3 X 5 = 15\n",
      "3 X 6 = 18\n",
      "3 X 7 = 21\n",
      "3 X 8 = 24\n",
      "3 X 9 = 27\n",
      "--------------------------------------------------\n",
      "구구단4단\n",
      "4 X 1 = 4\n",
      "4 X 2 = 8\n",
      "4 X 3 = 12\n",
      "4 X 4 = 16\n",
      "4 X 5 = 20\n",
      "4 X 6 = 24\n",
      "4 X 7 = 28\n",
      "4 X 8 = 32\n",
      "4 X 9 = 36\n",
      "--------------------------------------------------\n",
      "구구단5단\n",
      "5 X 1 = 5\n",
      "5 X 2 = 10\n",
      "5 X 3 = 15\n",
      "5 X 4 = 20\n",
      "5 X 5 = 25\n",
      "5 X 6 = 30\n",
      "5 X 7 = 35\n",
      "5 X 8 = 40\n",
      "5 X 9 = 45\n",
      "--------------------------------------------------\n",
      "구구단6단\n",
      "6 X 1 = 6\n",
      "6 X 2 = 12\n",
      "6 X 3 = 18\n",
      "6 X 4 = 24\n",
      "6 X 5 = 30\n",
      "6 X 6 = 36\n",
      "6 X 7 = 42\n",
      "6 X 8 = 48\n",
      "6 X 9 = 54\n",
      "--------------------------------------------------\n",
      "구구단7단\n",
      "7 X 1 = 7\n",
      "7 X 2 = 14\n",
      "7 X 3 = 21\n",
      "7 X 4 = 28\n",
      "7 X 5 = 35\n",
      "7 X 6 = 42\n",
      "7 X 7 = 49\n",
      "7 X 8 = 56\n",
      "7 X 9 = 63\n",
      "--------------------------------------------------\n",
      "구구단8단\n",
      "8 X 1 = 8\n",
      "8 X 2 = 16\n",
      "8 X 3 = 24\n",
      "8 X 4 = 32\n",
      "8 X 5 = 40\n",
      "8 X 6 = 48\n",
      "8 X 7 = 56\n",
      "8 X 8 = 64\n",
      "8 X 9 = 72\n",
      "--------------------------------------------------\n",
      "구구단9단\n",
      "9 X 1 = 9\n",
      "9 X 2 = 18\n",
      "9 X 3 = 27\n",
      "9 X 4 = 36\n",
      "9 X 5 = 45\n",
      "9 X 6 = 54\n",
      "9 X 7 = 63\n",
      "9 X 8 = 72\n",
      "9 X 9 = 81\n",
      "--------------------------------------------------\n"
     ]
    }
   ],
   "source": [
    "for i in range(2, 10) : # 2~9\n",
    "    print(f'구구단{i}단')\n",
    "    \n",
    "    for j in range(1, 10) : # 1~9\n",
    "        print(f'{i} X {j} = {i * j}')\n",
    "        \n",
    "    print('-' * 50)"
   ]
  },
  {
   "cell_type": "code",
   "execution_count": null,
   "id": "655c1b37",
   "metadata": {},
   "outputs": [],
   "source": []
  },
  {
   "cell_type": "markdown",
   "id": "9853af5e",
   "metadata": {},
   "source": [
    "#### 실습"
   ]
  },
  {
   "cell_type": "code",
   "execution_count": 33,
   "id": "3069943b",
   "metadata": {},
   "outputs": [
    {
     "name": "stdout",
     "output_type": "stream",
     "text": [
      "0 2 4 6 8 10 12 14 16 18 20 22 24 26 28 30 32 34 36 38 40 42 44 46 48 50 52 54 56 58 60 62 64 66 68 70 72 74 76 78 80 82 84 86 88 90 92 94 96 98 100 102 104 106 108 110 112 114 116 118 120 122 124 126 128 130 132 134 136 138 140 142 144 146 148 150 152 154 156 158 160 162 164 166 168 170 172 174 176 178 180 182 184 186 188 190 192 194 196 198 200 \n",
      "\n",
      "1~2345까지 13의 배수의 갯수 >  180\n",
      "\n",
      "1~300까지의 정수 중에 6의 배수이고 12의 배수가 아닌 수의 합 >  3750\n"
     ]
    }
   ],
   "source": [
    "#1. 1~200까지 짝수만 출력\n",
    "\n",
    "for a in range( 0, 201) :\n",
    "    if a % 2 == 0 :\n",
    "        print(a, end=' ')\n",
    "\n",
    "\n",
    "#2. 1~2345까지 13의 배수의 갯수\n",
    "\n",
    "count = 0\n",
    "\n",
    "\n",
    "for b in range(1, 2345) :\n",
    "    if b % 13 == 0 :\n",
    "        count += 1\n",
    "print('\\n\\n1~2345까지 13의 배수의 갯수 > ', count)\n",
    "\n",
    "\n",
    "#3. 1~300까지의 정수 중에 6의 배수이고 12의 배수가 아닌 수의 합\n",
    "\n",
    "sum = 0 \n",
    "for c in range(1, 301) :\n",
    "    if c % 6 == 0 and c % 12 != 0:\n",
    "        sum += c\n",
    "print('\\n1~300까지의 정수 중에 6의 배수이고 12의 배수가 아닌 수의 합 > ', sum)\n",
    "\n"
   ]
  },
  {
   "cell_type": "code",
   "execution_count": null,
   "id": "60cdcf7e",
   "metadata": {},
   "outputs": [],
   "source": []
  },
  {
   "cell_type": "code",
   "execution_count": null,
   "id": "8efdee67",
   "metadata": {},
   "outputs": [],
   "source": []
  },
  {
   "cell_type": "code",
   "execution_count": null,
   "id": "6c527c6a",
   "metadata": {},
   "outputs": [],
   "source": []
  },
  {
   "cell_type": "code",
   "execution_count": null,
   "id": "4c981dfa",
   "metadata": {},
   "outputs": [],
   "source": []
  }
 ],
 "metadata": {
  "kernelspec": {
   "display_name": "Python 3 (ipykernel)",
   "language": "python",
   "name": "python3"
  },
  "language_info": {
   "codemirror_mode": {
    "name": "ipython",
    "version": 3
   },
   "file_extension": ".py",
   "mimetype": "text/x-python",
   "name": "python",
   "nbconvert_exporter": "python",
   "pygments_lexer": "ipython3",
   "version": "3.9.7"
  }
 },
 "nbformat": 4,
 "nbformat_minor": 5
}
