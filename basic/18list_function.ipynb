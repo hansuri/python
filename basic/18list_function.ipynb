{
 "cells": [
  {
   "cell_type": "markdown",
   "id": "8c4fb2c6",
   "metadata": {},
   "source": [
    "#### 리스트 함수 insert, append"
   ]
  },
  {
   "cell_type": "code",
   "execution_count": 3,
   "id": "15b5c02f",
   "metadata": {},
   "outputs": [
    {
     "data": {
      "text/plain": [
       "[1, 2, 3, 4, 5, 6, 7]"
      ]
     },
     "execution_count": 3,
     "metadata": {},
     "output_type": "execute_result"
    }
   ],
   "source": [
    "list_ = [1,2,3,4,5]\n",
    "list_.append(6) # 마지막에 추가 \n",
    "list_.append(7)\n",
    "\n",
    "\n",
    "list_"
   ]
  },
  {
   "cell_type": "code",
   "execution_count": 4,
   "id": "200881da",
   "metadata": {},
   "outputs": [
    {
     "data": {
      "text/plain": [
       "[1, 2, 3, 10, 4, 5, 6, 7]"
      ]
     },
     "execution_count": 4,
     "metadata": {},
     "output_type": "execute_result"
    }
   ],
   "source": [
    "list_.insert(3, 10)\n",
    "list_"
   ]
  },
  {
   "cell_type": "markdown",
   "id": "f67810ee",
   "metadata": {},
   "source": [
    "#### 리스트의 값 삭제 remove, 내장함수 del, clear"
   ]
  },
  {
   "cell_type": "code",
   "execution_count": 8,
   "id": "a4d67b6c",
   "metadata": {},
   "outputs": [
    {
     "data": {
      "text/plain": [
       "[12, 34, 45, 56, 67]"
      ]
     },
     "execution_count": 8,
     "metadata": {},
     "output_type": "execute_result"
    }
   ],
   "source": [
    "list1 = [12,23,34,45,56,67]\n",
    "list1\n",
    "\n",
    "list1.remove(23) # 값을 이용해서 지운다 \n",
    "list1"
   ]
  },
  {
   "cell_type": "code",
   "execution_count": 10,
   "id": "b59d160a",
   "metadata": {},
   "outputs": [
    {
     "data": {
      "text/plain": [
       "[34, 45, 56, 67]"
      ]
     },
     "execution_count": 10,
     "metadata": {},
     "output_type": "execute_result"
    }
   ],
   "source": [
    "del list1[0] # del 지우고 싶은 인덱스\n",
    "list1"
   ]
  },
  {
   "cell_type": "code",
   "execution_count": 11,
   "id": "735cb6f9",
   "metadata": {},
   "outputs": [
    {
     "data": {
      "text/plain": [
       "[]"
      ]
     },
     "execution_count": 11,
     "metadata": {},
     "output_type": "execute_result"
    }
   ],
   "source": [
    "list1.clear() # 리스트를 비운다 \n",
    "list1"
   ]
  },
  {
   "cell_type": "markdown",
   "id": "46207ff1",
   "metadata": {},
   "source": [
    "#### 실습 "
   ]
  },
  {
   "cell_type": "code",
   "execution_count": 14,
   "id": "79ebe7cc",
   "metadata": {},
   "outputs": [],
   "source": [
    "# 사용자에게 값을 입력받아 입력받은 값이 있다면 삭제\n",
    "# 반복문으로 회전 index번째로 삭제 \n",
    "kakao = ['무지', '네오', '어피치', '라이언', '제이지']"
   ]
  },
  {
   "cell_type": "markdown",
   "id": "c2f5f757",
   "metadata": {},
   "source": [
    "#### 리스트의 탐색과 정렬\n",
    "- index, count, sort, reverse, max, min, len"
   ]
  },
  {
   "cell_type": "code",
   "execution_count": 27,
   "id": "ddb64e26",
   "metadata": {},
   "outputs": [],
   "source": [
    "point = [65, 54, 86, 45, 100, 76, 99, 98, 65]"
   ]
  },
  {
   "cell_type": "code",
   "execution_count": 22,
   "id": "0f378d54",
   "metadata": {},
   "outputs": [
    {
     "data": {
      "text/plain": [
       "8"
      ]
     },
     "execution_count": 22,
     "metadata": {},
     "output_type": "execute_result"
    }
   ],
   "source": [
    "max(point) #리스트의 가장 높은 값\n",
    "min(point) #리스트의 가장 낮은 값\n",
    "len(point) #리스트의 길이"
   ]
  },
  {
   "cell_type": "code",
   "execution_count": 28,
   "id": "d7154b04",
   "metadata": {},
   "outputs": [
    {
     "name": "stdout",
     "output_type": "stream",
     "text": [
      "100이 존재하는 인덱스 :  4\n",
      "65의 갯수 :  2\n"
     ]
    }
   ],
   "source": [
    "x = point.index(100)\n",
    "print('100이 존재하는 인덱스 : ', x)\n",
    "\n",
    "y = point.count(65)\n",
    "print('65의 갯수 : ', y)"
   ]
  },
  {
   "cell_type": "code",
   "execution_count": 30,
   "id": "ab5d95a8",
   "metadata": {},
   "outputs": [],
   "source": [
    "point.sort() # 오름차순\n"
   ]
  },
  {
   "cell_type": "code",
   "execution_count": null,
   "id": "ca28b21b",
   "metadata": {},
   "outputs": [],
   "source": []
  },
  {
   "cell_type": "code",
   "execution_count": null,
   "id": "0e36c5fc",
   "metadata": {},
   "outputs": [],
   "source": []
  },
  {
   "cell_type": "code",
   "execution_count": null,
   "id": "60a15553",
   "metadata": {},
   "outputs": [],
   "source": []
  },
  {
   "cell_type": "code",
   "execution_count": null,
   "id": "753ba026",
   "metadata": {},
   "outputs": [],
   "source": []
  },
  {
   "cell_type": "code",
   "execution_count": 18,
   "id": "7646da17",
   "metadata": {},
   "outputs": [
    {
     "name": "stdout",
     "output_type": "stream",
     "text": [
      "삭제할 카카오 프렌즈 이름 > 네오\n",
      "0\n",
      "1\n",
      "2\n",
      "3\n",
      "4\n"
     ]
    }
   ],
   "source": [
    "name = input('삭제할 카카오 프렌즈 이름 > ')\n",
    "\n",
    "for i in range(0, len(kakao) ) : #미만 \n",
    "   \n",
    "    print(i)"
   ]
  }
 ],
 "metadata": {
  "kernelspec": {
   "display_name": "Python 3 (ipykernel)",
   "language": "python",
   "name": "python3"
  },
  "language_info": {
   "codemirror_mode": {
    "name": "ipython",
    "version": 3
   },
   "file_extension": ".py",
   "mimetype": "text/x-python",
   "name": "python",
   "nbconvert_exporter": "python",
   "pygments_lexer": "ipython3",
   "version": "3.9.7"
  }
 },
 "nbformat": 4,
 "nbformat_minor": 5
}
