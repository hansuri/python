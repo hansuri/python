{
 "cells": [
  {
   "cell_type": "markdown",
   "id": "7eb58a9f",
   "metadata": {},
   "source": [
    "#### if 조건 :\n",
    "    들여쓰기"
   ]
  },
  {
   "cell_type": "code",
   "execution_count": 6,
   "id": "bdbfb63e",
   "metadata": {},
   "outputs": [
    {
     "name": "stdout",
     "output_type": "stream",
     "text": [
      "몇 살 입니까?45\n",
      "성인입니다\n",
      "신분증 확인 부탁드립니다\n",
      "무조건 실행되는 문장\n"
     ]
    }
   ],
   "source": [
    "age = int ( input('몇 살 입니까?'))\n",
    "if age > 19 :\n",
    "    print('성인입니다')\n",
    "    print('신분증 확인 부탁드립니다')\n",
    "    \n",
    "print('무조건 실행되는 문장')\n",
    "    "
   ]
  },
  {
   "cell_type": "code",
   "execution_count": 3,
   "id": "ac638f53",
   "metadata": {},
   "outputs": [
    {
     "name": "stdout",
     "output_type": "stream",
     "text": [
      "얼마 있습니까?12000\n",
      "치킨 사드세요\n"
     ]
    }
   ],
   "source": [
    "money = int( input('얼마 있습니까?'))\n",
    "\n",
    "if money >= 20000 :\n",
    "    print('입금하세요!')\n",
    "else :\n",
    "    print('치킨 사드세요')"
   ]
  },
  {
   "cell_type": "markdown",
   "id": "c134fc84",
   "metadata": {},
   "source": [
    "#### 실습 \n",
    "'''\n",
    "1. 국어, 영어, 수학점수를 받아서 평균이 60점 이상이면\n",
    "\"시험에 통과했습니다\" 를 출력하세요\n",
    "평균점수를 소수점 2자리까지 출력하세요. hint: round()\n",
    "\n",
    "2. 평균이 60점 미만이라면 \"재수강 대상입니다\" 를 출력하세요\n",
    "\n",
    "3. 통과/재수강 여부에 상관없이 \"열공합시다\" 를 출력하세요\n",
    "\n",
    "'''"
   ]
  },
  {
   "cell_type": "code",
   "execution_count": 7,
   "id": "f6494584",
   "metadata": {},
   "outputs": [
    {
     "name": "stdout",
     "output_type": "stream",
     "text": [
      "시험점수 국어 > 46\n",
      "시험점수 영어 > 98\n",
      "시험점수 수학 > 99\n",
      "81\n",
      "시험에 통과했습니다\n",
      "열공합시다\n"
     ]
    }
   ],
   "source": [
    "kor = int(input('시험점수 국어 > ' ))\n",
    "eng = int(input('시험점수 영어 > ' ))\n",
    "math = int(input('시험점수 수학 > ' ))\n",
    "\n",
    "avg = round( (kor + eng + math) / 3)\n",
    "print(avg)\n",
    "\n",
    "if round( (kor + eng + math) / 3) >= 60 :\n",
    "    print('시험에 통과했습니다')\n",
    "else :\n",
    "    print('재수강 대상입니다')\n",
    "\n",
    "print('열공합시다')"
   ]
  },
  {
   "cell_type": "markdown",
   "id": "067aa60a",
   "metadata": {},
   "source": [
    "#### elif"
   ]
  },
  {
   "cell_type": "code",
   "execution_count": 8,
   "id": "13b28d0d",
   "metadata": {},
   "outputs": [
    {
     "name": "stdout",
     "output_type": "stream",
     "text": [
      "나이를 입력하세요 > 16\n",
      "중딩\n"
     ]
    }
   ],
   "source": [
    "age = int(input('나이를 입력하세요 > '))\n",
    "\n",
    "if age >= 20 :\n",
    "    print('성인')\n",
    "    \n",
    "elif age >= 17 :\n",
    "    print('고딩')\n",
    "    \n",
    "elif age >= 14 :\n",
    "    print('중딩')\n",
    "    \n",
    "elif age >= 8 :\n",
    "    print('초딩')\n",
    "\n",
    "else :\n",
    "    print('미취학 아동')\n",
    "    "
   ]
  },
  {
   "cell_type": "markdown",
   "id": "95f3ab95",
   "metadata": {},
   "source": [
    "#### 중첩 if"
   ]
  },
  {
   "cell_type": "code",
   "execution_count": 9,
   "id": "3df20dfb",
   "metadata": {},
   "outputs": [
    {
     "name": "stdout",
     "output_type": "stream",
     "text": [
      "키 > 158\n",
      "나이 > 10\n",
      "놀이기구 탑승이 가능합니다\n",
      "--------------------------------------------------\n"
     ]
    }
   ],
   "source": [
    "cm = int( input('키 > ') )\n",
    "age = int( input('나이 > ') )\n",
    "\n",
    "if cm >= 140 :\n",
    "    if age >= 8 :\n",
    "        print('놀이기구 탑승이 가능합니다')\n",
    "    else :\n",
    "        print('나이가 8세 미만입니다')\n",
    "        \n",
    "    print ('-' * 50) # 바깥 if문의 실행구문 \n",
    "else :\n",
    "    print('키가 140미만입니다')"
   ]
  },
  {
   "cell_type": "markdown",
   "id": "c0fba89e",
   "metadata": {},
   "source": [
    "#### 실습2\n",
    "\n",
    "'''\n",
    "1. 점수(point)를 입력받아 90점 이상이면\n",
    "다시 한번 조건을 검사하여 \n",
    "100점을 초과한 경우 \"점수를 잘못 입력했습니다\" 를 출력.\n",
    "95~100일 때는 \"학점은 A+입니다\" \n",
    "위 두 조건을 만족하지 못하면 \"학점은 A입니다\"\n",
    "\n",
    "2. 다중 분기 조건문을 사용하여 \n",
    "80점대는 B학점\n",
    "70점대는 C학점\n",
    "60점대는 F학점으로 처리하세요\n",
    "\n",
    "'''"
   ]
  },
  {
   "cell_type": "code",
   "execution_count": 5,
   "id": "fc3e751c",
   "metadata": {},
   "outputs": [
    {
     "name": "stdout",
     "output_type": "stream",
     "text": [
      "점수 > 78\n",
      "C 학점입니다\n"
     ]
    }
   ],
   "source": [
    "point = int(input('점수 > ') )\n",
    "\n",
    "if point >= 90 :\n",
    "    if point > 100 :\n",
    "        print('점수를 잘못 입력했습니다')\n",
    "    if 95 <= point <= 100 :\n",
    "        print('A+ 학점입니다')\n",
    "    else :\n",
    "        print('A 학점입니다')\n",
    "        \n",
    "elif point >= 80 :\n",
    "    print('B 학점입니다')\n",
    "\n",
    "elif point >= 70 :\n",
    "    print('C 학점입니다')\n",
    "    \n",
    "elif point >= 60 :\n",
    "    print('F 학점입니다')"
   ]
  },
  {
   "cell_type": "code",
   "execution_count": null,
   "id": "d3db64da",
   "metadata": {},
   "outputs": [],
   "source": []
  },
  {
   "cell_type": "code",
   "execution_count": null,
   "id": "3124269f",
   "metadata": {},
   "outputs": [],
   "source": []
  }
 ],
 "metadata": {
  "kernelspec": {
   "display_name": "Python 3 (ipykernel)",
   "language": "python",
   "name": "python3"
  },
  "language_info": {
   "codemirror_mode": {
    "name": "ipython",
    "version": 3
   },
   "file_extension": ".py",
   "mimetype": "text/x-python",
   "name": "python",
   "nbconvert_exporter": "python",
   "pygments_lexer": "ipython3",
   "version": "3.9.7"
  }
 },
 "nbformat": 4,
 "nbformat_minor": 5
}
